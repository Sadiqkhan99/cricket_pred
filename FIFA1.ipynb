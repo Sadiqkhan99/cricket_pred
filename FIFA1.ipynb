{
 "cells": [
  {
   "cell_type": "markdown",
   "metadata": {},
   "source": [
    "# EDA FOR FIFA "
   ]
  },
  {
   "cell_type": "code",
   "execution_count": null,
   "metadata": {},
   "outputs": [],
   "source": [
    "#libraries\n",
    "import pandas as pd\n",
    "import matplotlib.pyplot as plt\n",
    "import seaborn as sns"
   ]
  },
  {
   "cell_type": "code",
   "execution_count": null,
   "metadata": {},
   "outputs": [],
   "source": [
    "fifa=pd.read_csv('players_20.csv')"
   ]
  },
  {
   "cell_type": "code",
   "execution_count": null,
   "metadata": {},
   "outputs": [],
   "source": [
    "fifa.head()"
   ]
  },
  {
   "cell_type": "code",
   "execution_count": null,
   "metadata": {},
   "outputs": [],
   "source": [
    "#in ds have a lot of column we display all\n",
    "for col in fifa.columns:\n",
    "    print(col)"
   ]
  },
  {
   "cell_type": "code",
   "execution_count": null,
   "metadata": {},
   "outputs": [],
   "source": [
    "fifa.shape"
   ]
  },
  {
   "cell_type": "code",
   "execution_count": null,
   "metadata": {},
   "outputs": [],
   "source": [
    "18483*110"
   ]
  },
  {
   "cell_type": "code",
   "execution_count": null,
   "metadata": {},
   "outputs": [],
   "source": [
    "#how many players belong from where\n",
    "fifa['nationality_name'].value_counts()"
   ]
  },
  {
   "cell_type": "code",
   "execution_count": null,
   "metadata": {},
   "outputs": [],
   "source": [
    "fifa['nationality_name'].value_counts()[0:5].keys()"
   ]
  },
  {
   "cell_type": "code",
   "execution_count": null,
   "metadata": {},
   "outputs": [],
   "source": [
    "fifa['nationality_name'].value_counts()[0:5]"
   ]
  },
  {
   "cell_type": "code",
   "execution_count": null,
   "metadata": {},
   "outputs": [],
   "source": [
    "#list used for convert it to python list\n",
    "plt.figure(figsize=(5,5))\n",
    "plt.bar(list(fifa['nationality_name'].value_counts().keys()[0:5]),list(fifa['nationality_name'].value_counts()[0:5]))"
   ]
  },
  {
   "cell_type": "code",
   "execution_count": null,
   "metadata": {},
   "outputs": [],
   "source": [
    "playere_salery=fifa[['short_name','wage_eur']]"
   ]
  },
  {
   "cell_type": "code",
   "execution_count": null,
   "metadata": {},
   "outputs": [],
   "source": [
    "playere_salery.head()"
   ]
  },
  {
   "cell_type": "code",
   "execution_count": null,
   "metadata": {},
   "outputs": [],
   "source": [
    "#ascending =false mean highest to lowest\n",
    "playere_salery=playere_salery.sort_values(by=['wage_eur'],ascending=False)"
   ]
  },
  {
   "cell_type": "code",
   "execution_count": null,
   "metadata": {},
   "outputs": [],
   "source": [
    "playere_salery.head()"
   ]
  },
  {
   "cell_type": "code",
   "execution_count": null,
   "metadata": {},
   "outputs": [],
   "source": [
    "#plt.figure(figsize=(5,5))\n",
    "#plt.bar(list(pl_s['short_name'].value_counts()[0:5]),list(pl_s['value_eur'].value_counts()[0:5]))\n",
    "plt.figure(figsize=(5,5))\n",
    "plt.bar(list(playere_salery['short_name'])[0:5],list(playere_salery['wage_eur'])[0:5],color=['b','g','y'])\n",
    "plt.show()"
   ]
  },
  {
   "cell_type": "code",
   "execution_count": null,
   "metadata": {},
   "outputs": [],
   "source": [
    "#info about country\n",
    "fifa['nationality_name']=='Germany'"
   ]
  },
  {
   "cell_type": "code",
   "execution_count": null,
   "metadata": {},
   "outputs": [],
   "source": [
    "germany=fifa[fifa['nationality_name']=='Germany']\n",
    "germany.head(10)"
   ]
  },
  {
   "cell_type": "code",
   "execution_count": null,
   "metadata": {},
   "outputs": [],
   "source": [
    "germany.sort_values(by=['height_cm'],ascending=False).head()"
   ]
  },
  {
   "cell_type": "code",
   "execution_count": null,
   "metadata": {},
   "outputs": [],
   "source": [
    "germany.sort_values(by=['weight_kg'],ascending=False).head()"
   ]
  },
  {
   "cell_type": "code",
   "execution_count": null,
   "metadata": {},
   "outputs": [],
   "source": [
    "germany.sort_values(by=['wage_eur'],ascending=False).head()"
   ]
  },
  {
   "cell_type": "code",
   "execution_count": null,
   "metadata": {},
   "outputs": [],
   "source": [
    "germany[['short_name','wage_eur']].sort_values(by=['wage_eur'],ascending=False).head()"
   ]
  },
  {
   "cell_type": "code",
   "execution_count": null,
   "metadata": {},
   "outputs": [],
   "source": [
    "#defending"
   ]
  },
  {
   "cell_type": "code",
   "execution_count": null,
   "metadata": {},
   "outputs": [],
   "source": [
    "player_defending=fifa[['short_name','defending','nationality_name','club_name']]"
   ]
  },
  {
   "cell_type": "code",
   "execution_count": null,
   "metadata": {},
   "outputs": [],
   "source": [
    "player_defending.sort_values(by=['defending'],ascending=False).head()"
   ]
  },
  {
   "cell_type": "code",
   "execution_count": null,
   "metadata": {},
   "outputs": [],
   "source": []
  },
  {
   "cell_type": "code",
   "execution_count": 4,
   "metadata": {},
   "outputs": [],
   "source": [
    "\n",
    "#libraries\n",
    "import pandas as pd\n",
    "import matplotlib.pyplot as plt\n",
    "import seaborn as sns\n",
    "\n"
   ]
  },
  {
   "cell_type": "code",
   "execution_count": 5,
   "metadata": {},
   "outputs": [],
   "source": [
    "df=pd.read_csv('players_20.csv')"
   ]
  },
  {
   "cell_type": "code",
   "execution_count": 6,
   "metadata": {},
   "outputs": [
    {
     "data": {
      "text/html": [
       "<div>\n",
       "<style scoped>\n",
       "    .dataframe tbody tr th:only-of-type {\n",
       "        vertical-align: middle;\n",
       "    }\n",
       "\n",
       "    .dataframe tbody tr th {\n",
       "        vertical-align: top;\n",
       "    }\n",
       "\n",
       "    .dataframe thead th {\n",
       "        text-align: right;\n",
       "    }\n",
       "</style>\n",
       "<table border=\"1\" class=\"dataframe\">\n",
       "  <thead>\n",
       "    <tr style=\"text-align: right;\">\n",
       "      <th></th>\n",
       "      <th>sofifa_id</th>\n",
       "      <th>player_url</th>\n",
       "      <th>short_name</th>\n",
       "      <th>long_name</th>\n",
       "      <th>player_positions</th>\n",
       "      <th>overall</th>\n",
       "      <th>potential</th>\n",
       "      <th>value_eur</th>\n",
       "      <th>wage_eur</th>\n",
       "      <th>age</th>\n",
       "      <th>...</th>\n",
       "      <th>lcb</th>\n",
       "      <th>cb</th>\n",
       "      <th>rcb</th>\n",
       "      <th>rb</th>\n",
       "      <th>gk</th>\n",
       "      <th>player_face_url</th>\n",
       "      <th>club_logo_url</th>\n",
       "      <th>club_flag_url</th>\n",
       "      <th>nation_logo_url</th>\n",
       "      <th>nation_flag_url</th>\n",
       "    </tr>\n",
       "  </thead>\n",
       "  <tbody>\n",
       "    <tr>\n",
       "      <th>0</th>\n",
       "      <td>158023</td>\n",
       "      <td>https://sofifa.com/player/158023/lionel-messi/...</td>\n",
       "      <td>L. Messi</td>\n",
       "      <td>Lionel Andrés Messi Cuccittini</td>\n",
       "      <td>RW, CF, ST</td>\n",
       "      <td>94</td>\n",
       "      <td>94</td>\n",
       "      <td>95500000.0</td>\n",
       "      <td>560000.0</td>\n",
       "      <td>32</td>\n",
       "      <td>...</td>\n",
       "      <td>53+6</td>\n",
       "      <td>53+6</td>\n",
       "      <td>53+6</td>\n",
       "      <td>63+6</td>\n",
       "      <td>19+6</td>\n",
       "      <td>https://cdn.sofifa.net/players/158/023/20_120.png</td>\n",
       "      <td>https://cdn.sofifa.net/teams/241/60.png</td>\n",
       "      <td>https://cdn.sofifa.net/flags/es.png</td>\n",
       "      <td>NaN</td>\n",
       "      <td>https://cdn.sofifa.net/flags/ar.png</td>\n",
       "    </tr>\n",
       "    <tr>\n",
       "      <th>1</th>\n",
       "      <td>20801</td>\n",
       "      <td>https://sofifa.com/player/20801/c-ronaldo-dos-...</td>\n",
       "      <td>Cristiano Ronaldo</td>\n",
       "      <td>Cristiano Ronaldo dos Santos Aveiro</td>\n",
       "      <td>ST, LW</td>\n",
       "      <td>93</td>\n",
       "      <td>93</td>\n",
       "      <td>58500000.0</td>\n",
       "      <td>410000.0</td>\n",
       "      <td>34</td>\n",
       "      <td>...</td>\n",
       "      <td>54+3</td>\n",
       "      <td>54+3</td>\n",
       "      <td>54+3</td>\n",
       "      <td>61+3</td>\n",
       "      <td>20+3</td>\n",
       "      <td>https://cdn.sofifa.net/players/020/801/20_120.png</td>\n",
       "      <td>https://cdn.sofifa.net/teams/45/60.png</td>\n",
       "      <td>https://cdn.sofifa.net/flags/it.png</td>\n",
       "      <td>https://cdn.sofifa.net/teams/1354/60.png</td>\n",
       "      <td>https://cdn.sofifa.net/flags/pt.png</td>\n",
       "    </tr>\n",
       "    <tr>\n",
       "      <th>2</th>\n",
       "      <td>190871</td>\n",
       "      <td>https://sofifa.com/player/190871/neymar-da-sil...</td>\n",
       "      <td>Neymar Jr</td>\n",
       "      <td>Neymar da Silva Santos Júnior</td>\n",
       "      <td>LW, CAM</td>\n",
       "      <td>92</td>\n",
       "      <td>92</td>\n",
       "      <td>105500000.0</td>\n",
       "      <td>290000.0</td>\n",
       "      <td>27</td>\n",
       "      <td>...</td>\n",
       "      <td>47+6</td>\n",
       "      <td>47+6</td>\n",
       "      <td>47+6</td>\n",
       "      <td>61+6</td>\n",
       "      <td>20+6</td>\n",
       "      <td>https://cdn.sofifa.net/players/190/871/20_120.png</td>\n",
       "      <td>https://cdn.sofifa.net/teams/73/60.png</td>\n",
       "      <td>https://cdn.sofifa.net/flags/fr.png</td>\n",
       "      <td>https://cdn.sofifa.net/teams/1370/60.png</td>\n",
       "      <td>https://cdn.sofifa.net/flags/br.png</td>\n",
       "    </tr>\n",
       "    <tr>\n",
       "      <th>3</th>\n",
       "      <td>183277</td>\n",
       "      <td>https://sofifa.com/player/183277/eden-hazard/2...</td>\n",
       "      <td>E. Hazard</td>\n",
       "      <td>Eden Hazard</td>\n",
       "      <td>LW, CF</td>\n",
       "      <td>91</td>\n",
       "      <td>91</td>\n",
       "      <td>90000000.0</td>\n",
       "      <td>470000.0</td>\n",
       "      <td>28</td>\n",
       "      <td>...</td>\n",
       "      <td>49+6</td>\n",
       "      <td>49+6</td>\n",
       "      <td>49+6</td>\n",
       "      <td>61+6</td>\n",
       "      <td>18+6</td>\n",
       "      <td>https://cdn.sofifa.net/players/183/277/20_120.png</td>\n",
       "      <td>https://cdn.sofifa.net/teams/243/60.png</td>\n",
       "      <td>https://cdn.sofifa.net/flags/es.png</td>\n",
       "      <td>https://cdn.sofifa.net/teams/1325/60.png</td>\n",
       "      <td>https://cdn.sofifa.net/flags/be.png</td>\n",
       "    </tr>\n",
       "    <tr>\n",
       "      <th>4</th>\n",
       "      <td>192985</td>\n",
       "      <td>https://sofifa.com/player/192985/kevin-de-bruy...</td>\n",
       "      <td>K. De Bruyne</td>\n",
       "      <td>Kevin De Bruyne</td>\n",
       "      <td>CAM, CM</td>\n",
       "      <td>91</td>\n",
       "      <td>91</td>\n",
       "      <td>90000000.0</td>\n",
       "      <td>370000.0</td>\n",
       "      <td>28</td>\n",
       "      <td>...</td>\n",
       "      <td>67+3</td>\n",
       "      <td>67+3</td>\n",
       "      <td>67+3</td>\n",
       "      <td>73+3</td>\n",
       "      <td>21+3</td>\n",
       "      <td>https://cdn.sofifa.net/players/192/985/20_120.png</td>\n",
       "      <td>https://cdn.sofifa.net/teams/10/60.png</td>\n",
       "      <td>https://cdn.sofifa.net/flags/gb-eng.png</td>\n",
       "      <td>https://cdn.sofifa.net/teams/1325/60.png</td>\n",
       "      <td>https://cdn.sofifa.net/flags/be.png</td>\n",
       "    </tr>\n",
       "  </tbody>\n",
       "</table>\n",
       "<p>5 rows × 110 columns</p>\n",
       "</div>"
      ],
      "text/plain": [
       "   sofifa_id                                         player_url  \\\n",
       "0     158023  https://sofifa.com/player/158023/lionel-messi/...   \n",
       "1      20801  https://sofifa.com/player/20801/c-ronaldo-dos-...   \n",
       "2     190871  https://sofifa.com/player/190871/neymar-da-sil...   \n",
       "3     183277  https://sofifa.com/player/183277/eden-hazard/2...   \n",
       "4     192985  https://sofifa.com/player/192985/kevin-de-bruy...   \n",
       "\n",
       "          short_name                            long_name player_positions  \\\n",
       "0           L. Messi       Lionel Andrés Messi Cuccittini       RW, CF, ST   \n",
       "1  Cristiano Ronaldo  Cristiano Ronaldo dos Santos Aveiro           ST, LW   \n",
       "2          Neymar Jr        Neymar da Silva Santos Júnior          LW, CAM   \n",
       "3          E. Hazard                          Eden Hazard           LW, CF   \n",
       "4       K. De Bruyne                      Kevin De Bruyne          CAM, CM   \n",
       "\n",
       "   overall  potential    value_eur  wage_eur  age  ...   lcb    cb   rcb  \\\n",
       "0       94         94   95500000.0  560000.0   32  ...  53+6  53+6  53+6   \n",
       "1       93         93   58500000.0  410000.0   34  ...  54+3  54+3  54+3   \n",
       "2       92         92  105500000.0  290000.0   27  ...  47+6  47+6  47+6   \n",
       "3       91         91   90000000.0  470000.0   28  ...  49+6  49+6  49+6   \n",
       "4       91         91   90000000.0  370000.0   28  ...  67+3  67+3  67+3   \n",
       "\n",
       "     rb    gk                                    player_face_url  \\\n",
       "0  63+6  19+6  https://cdn.sofifa.net/players/158/023/20_120.png   \n",
       "1  61+3  20+3  https://cdn.sofifa.net/players/020/801/20_120.png   \n",
       "2  61+6  20+6  https://cdn.sofifa.net/players/190/871/20_120.png   \n",
       "3  61+6  18+6  https://cdn.sofifa.net/players/183/277/20_120.png   \n",
       "4  73+3  21+3  https://cdn.sofifa.net/players/192/985/20_120.png   \n",
       "\n",
       "                             club_logo_url  \\\n",
       "0  https://cdn.sofifa.net/teams/241/60.png   \n",
       "1   https://cdn.sofifa.net/teams/45/60.png   \n",
       "2   https://cdn.sofifa.net/teams/73/60.png   \n",
       "3  https://cdn.sofifa.net/teams/243/60.png   \n",
       "4   https://cdn.sofifa.net/teams/10/60.png   \n",
       "\n",
       "                             club_flag_url  \\\n",
       "0      https://cdn.sofifa.net/flags/es.png   \n",
       "1      https://cdn.sofifa.net/flags/it.png   \n",
       "2      https://cdn.sofifa.net/flags/fr.png   \n",
       "3      https://cdn.sofifa.net/flags/es.png   \n",
       "4  https://cdn.sofifa.net/flags/gb-eng.png   \n",
       "\n",
       "                            nation_logo_url  \\\n",
       "0                                       NaN   \n",
       "1  https://cdn.sofifa.net/teams/1354/60.png   \n",
       "2  https://cdn.sofifa.net/teams/1370/60.png   \n",
       "3  https://cdn.sofifa.net/teams/1325/60.png   \n",
       "4  https://cdn.sofifa.net/teams/1325/60.png   \n",
       "\n",
       "                       nation_flag_url  \n",
       "0  https://cdn.sofifa.net/flags/ar.png  \n",
       "1  https://cdn.sofifa.net/flags/pt.png  \n",
       "2  https://cdn.sofifa.net/flags/br.png  \n",
       "3  https://cdn.sofifa.net/flags/be.png  \n",
       "4  https://cdn.sofifa.net/flags/be.png  \n",
       "\n",
       "[5 rows x 110 columns]"
      ]
     },
     "execution_count": 6,
     "metadata": {},
     "output_type": "execute_result"
    }
   ],
   "source": [
    "df.head()"
   ]
  },
  {
   "cell_type": "code",
   "execution_count": 10,
   "metadata": {},
   "outputs": [
    {
     "data": {
      "text/plain": [
       "0    Argentina\n",
       "1     Portugal\n",
       "2       Brazil\n",
       "3      Belgium\n",
       "4      Belgium\n",
       "Name: nationality_name, dtype: object"
      ]
     },
     "execution_count": 10,
     "metadata": {},
     "output_type": "execute_result"
    }
   ],
   "source": [
    "df['nationality_name'].head()"
   ]
  },
  {
   "cell_type": "code",
   "execution_count": 11,
   "metadata": {},
   "outputs": [
    {
     "data": {
      "text/plain": [
       "England      1670\n",
       "Germany      1218\n",
       "Spain        1045\n",
       "France       1004\n",
       "Argentina     886\n",
       "             ... \n",
       "Eritrea         1\n",
       "Indonesia       1\n",
       "Ethiopia        1\n",
       "Barbados        1\n",
       "Hong Kong       1\n",
       "Name: nationality_name, Length: 162, dtype: int64"
      ]
     },
     "execution_count": 11,
     "metadata": {},
     "output_type": "execute_result"
    }
   ],
   "source": [
    "df['nationality_name'].value_counts()"
   ]
  },
  {
   "cell_type": "code",
   "execution_count": 14,
   "metadata": {},
   "outputs": [
    {
     "data": {
      "text/plain": [
       "<BarContainer object of 5 artists>"
      ]
     },
     "execution_count": 14,
     "metadata": {},
     "output_type": "execute_result"
    },
    {
     "data": {
      "image/png": "[encoded data removed]",
      "text/plain": [
       "<Figure size 360x360 with 1 Axes>"
      ]
     },
     "metadata": {
      "needs_background": "light"
     },
     "output_type": "display_data"
    }
   ],
   "source": [
    "plt.figure(figsize=(5,5))\n",
    "plt.bar(list(df['nationality_name'].value_counts().keys()[0:5]),list(df['nationality_name'].value_counts())[0:5],color=['r','g','b','y','r'])"
   ]
  },
  {
   "cell_type": "code",
   "execution_count": 16,
   "metadata": {},
   "outputs": [
    {
     "data": {
      "text/html": [
       "<div>\n",
       "<style scoped>\n",
       "    .dataframe tbody tr th:only-of-type {\n",
       "        vertical-align: middle;\n",
       "    }\n",
       "\n",
       "    .dataframe tbody tr th {\n",
       "        vertical-align: top;\n",
       "    }\n",
       "\n",
       "    .dataframe thead th {\n",
       "        text-align: right;\n",
       "    }\n",
       "</style>\n",
       "<table border=\"1\" class=\"dataframe\">\n",
       "  <thead>\n",
       "    <tr style=\"text-align: right;\">\n",
       "      <th></th>\n",
       "      <th>sofifa_id</th>\n",
       "      <th>player_url</th>\n",
       "      <th>short_name</th>\n",
       "      <th>long_name</th>\n",
       "      <th>player_positions</th>\n",
       "      <th>overall</th>\n",
       "      <th>potential</th>\n",
       "      <th>value_eur</th>\n",
       "      <th>wage_eur</th>\n",
       "      <th>age</th>\n",
       "      <th>...</th>\n",
       "      <th>lcb</th>\n",
       "      <th>cb</th>\n",
       "      <th>rcb</th>\n",
       "      <th>rb</th>\n",
       "      <th>gk</th>\n",
       "      <th>player_face_url</th>\n",
       "      <th>club_logo_url</th>\n",
       "      <th>club_flag_url</th>\n",
       "      <th>nation_logo_url</th>\n",
       "      <th>nation_flag_url</th>\n",
       "    </tr>\n",
       "  </thead>\n",
       "  <tbody>\n",
       "    <tr>\n",
       "      <th>0</th>\n",
       "      <td>158023</td>\n",
       "      <td>https://sofifa.com/player/158023/lionel-messi/...</td>\n",
       "      <td>L. Messi</td>\n",
       "      <td>Lionel Andrés Messi Cuccittini</td>\n",
       "      <td>RW, CF, ST</td>\n",
       "      <td>94</td>\n",
       "      <td>94</td>\n",
       "      <td>95500000.0</td>\n",
       "      <td>560000.0</td>\n",
       "      <td>32</td>\n",
       "      <td>...</td>\n",
       "      <td>53+6</td>\n",
       "      <td>53+6</td>\n",
       "      <td>53+6</td>\n",
       "      <td>63+6</td>\n",
       "      <td>19+6</td>\n",
       "      <td>https://cdn.sofifa.net/players/158/023/20_120.png</td>\n",
       "      <td>https://cdn.sofifa.net/teams/241/60.png</td>\n",
       "      <td>https://cdn.sofifa.net/flags/es.png</td>\n",
       "      <td>NaN</td>\n",
       "      <td>https://cdn.sofifa.net/flags/ar.png</td>\n",
       "    </tr>\n",
       "    <tr>\n",
       "      <th>1</th>\n",
       "      <td>20801</td>\n",
       "      <td>https://sofifa.com/player/20801/c-ronaldo-dos-...</td>\n",
       "      <td>Cristiano Ronaldo</td>\n",
       "      <td>Cristiano Ronaldo dos Santos Aveiro</td>\n",
       "      <td>ST, LW</td>\n",
       "      <td>93</td>\n",
       "      <td>93</td>\n",
       "      <td>58500000.0</td>\n",
       "      <td>410000.0</td>\n",
       "      <td>34</td>\n",
       "      <td>...</td>\n",
       "      <td>54+3</td>\n",
       "      <td>54+3</td>\n",
       "      <td>54+3</td>\n",
       "      <td>61+3</td>\n",
       "      <td>20+3</td>\n",
       "      <td>https://cdn.sofifa.net/players/020/801/20_120.png</td>\n",
       "      <td>https://cdn.sofifa.net/teams/45/60.png</td>\n",
       "      <td>https://cdn.sofifa.net/flags/it.png</td>\n",
       "      <td>https://cdn.sofifa.net/teams/1354/60.png</td>\n",
       "      <td>https://cdn.sofifa.net/flags/pt.png</td>\n",
       "    </tr>\n",
       "  </tbody>\n",
       "</table>\n",
       "<p>2 rows × 110 columns</p>\n",
       "</div>"
      ],
      "text/plain": [
       "   sofifa_id                                         player_url  \\\n",
       "0     158023  https://sofifa.com/player/158023/lionel-messi/...   \n",
       "1      20801  https://sofifa.com/player/20801/c-ronaldo-dos-...   \n",
       "\n",
       "          short_name                            long_name player_positions  \\\n",
       "0           L. Messi       Lionel Andrés Messi Cuccittini       RW, CF, ST   \n",
       "1  Cristiano Ronaldo  Cristiano Ronaldo dos Santos Aveiro           ST, LW   \n",
       "\n",
       "   overall  potential   value_eur  wage_eur  age  ...   lcb    cb   rcb    rb  \\\n",
       "0       94         94  95500000.0  560000.0   32  ...  53+6  53+6  53+6  63+6   \n",
       "1       93         93  58500000.0  410000.0   34  ...  54+3  54+3  54+3  61+3   \n",
       "\n",
       "     gk                                    player_face_url  \\\n",
       "0  19+6  https://cdn.sofifa.net/players/158/023/20_120.png   \n",
       "1  20+3  https://cdn.sofifa.net/players/020/801/20_120.png   \n",
       "\n",
       "                             club_logo_url  \\\n",
       "0  https://cdn.sofifa.net/teams/241/60.png   \n",
       "1   https://cdn.sofifa.net/teams/45/60.png   \n",
       "\n",
       "                         club_flag_url  \\\n",
       "0  https://cdn.sofifa.net/flags/es.png   \n",
       "1  https://cdn.sofifa.net/flags/it.png   \n",
       "\n",
       "                            nation_logo_url  \\\n",
       "0                                       NaN   \n",
       "1  https://cdn.sofifa.net/teams/1354/60.png   \n",
       "\n",
       "                       nation_flag_url  \n",
       "0  https://cdn.sofifa.net/flags/ar.png  \n",
       "1  https://cdn.sofifa.net/flags/pt.png  \n",
       "\n",
       "[2 rows x 110 columns]"
      ]
     },
     "execution_count": 16,
     "metadata": {},
     "output_type": "execute_result"
    }
   ],
   "source": [
    "df.head(2)"
   ]
  },
  {
   "cell_type": "code",
   "execution_count": 56,
   "metadata": {},
   "outputs": [
    {
     "name": "stdout",
     "output_type": "stream",
     "text": [
      "sofifa_id\n",
      "player_url\n",
      "short_name\n",
      "long_name\n",
      "player_positions\n",
      "overall\n",
      "potential\n",
      "value_eur\n",
      "wage_eur\n",
      "age\n",
      "dob\n",
      "height_cm\n",
      "weight_kg\n",
      "club_team_id\n",
      "club_name\n",
      "league_name\n",
      "league_level\n",
      "club_position\n",
      "club_jersey_number\n",
      "club_loaned_from\n",
      "club_joined\n",
      "club_contract_valid_until\n",
      "nationality_id\n",
      "nationality_name\n",
      "nation_team_id\n",
      "nation_position\n",
      "nation_jersey_number\n",
      "preferred_foot\n",
      "weak_foot\n",
      "skill_moves\n",
      "international_reputation\n",
      "work_rate\n",
      "body_type\n",
      "real_face\n",
      "release_clause_eur\n",
      "player_tags\n",
      "player_traits\n",
      "pace\n",
      "shooting\n",
      "passing\n",
      "dribbling\n",
      "defending\n",
      "physic\n",
      "attacking_crossing\n",
      "attacking_finishing\n",
      "attacking_heading_accuracy\n",
      "attacking_short_passing\n",
      "attacking_volleys\n",
      "skill_dribbling\n",
      "skill_curve\n",
      "skill_fk_accuracy\n",
      "skill_long_passing\n",
      "skill_ball_control\n",
      "movement_acceleration\n",
      "movement_sprint_speed\n",
      "movement_agility\n",
      "movement_reactions\n",
      "movement_balance\n",
      "power_shot_power\n",
      "power_jumping\n",
      "power_stamina\n",
      "power_strength\n",
      "power_long_shots\n",
      "mentality_aggression\n",
      "mentality_interceptions\n",
      "mentality_positioning\n",
      "mentality_vision\n",
      "mentality_penalties\n",
      "mentality_composure\n",
      "defending_marking_awareness\n",
      "defending_standing_tackle\n",
      "defending_sliding_tackle\n",
      "goalkeeping_diving\n",
      "goalkeeping_handling\n",
      "goalkeeping_kicking\n",
      "goalkeeping_positioning\n",
      "goalkeeping_reflexes\n",
      "goalkeeping_speed\n",
      "ls\n",
      "st\n",
      "rs\n",
      "lw\n",
      "lf\n",
      "cf\n",
      "rf\n",
      "rw\n",
      "lam\n",
      "cam\n",
      "ram\n",
      "lm\n",
      "lcm\n",
      "cm\n",
      "rcm\n",
      "rm\n",
      "lwb\n",
      "ldm\n",
      "cdm\n",
      "rdm\n",
      "rwb\n",
      "lb\n",
      "lcb\n",
      "cb\n",
      "rcb\n",
      "rb\n",
      "gk\n",
      "player_face_url\n",
      "club_logo_url\n",
      "club_flag_url\n",
      "nation_logo_url\n",
      "nation_flag_url\n"
     ]
    }
   ],
   "source": [
    "for i in df.columns:\n",
    "    print(i)"
   ]
  },
  {
   "cell_type": "code",
   "execution_count": 57,
   "metadata": {},
   "outputs": [],
   "source": [
    "player_s=df[['short_name','wage_eur']]"
   ]
  },
  {
   "cell_type": "code",
   "execution_count": 58,
   "metadata": {},
   "outputs": [
    {
     "data": {
      "text/html": [
       "<div>\n",
       "<style scoped>\n",
       "    .dataframe tbody tr th:only-of-type {\n",
       "        vertical-align: middle;\n",
       "    }\n",
       "\n",
       "    .dataframe tbody tr th {\n",
       "        vertical-align: top;\n",
       "    }\n",
       "\n",
       "    .dataframe thead th {\n",
       "        text-align: right;\n",
       "    }\n",
       "</style>\n",
       "<table border=\"1\" class=\"dataframe\">\n",
       "  <thead>\n",
       "    <tr style=\"text-align: right;\">\n",
       "      <th></th>\n",
       "      <th>short_name</th>\n",
       "      <th>wage_eur</th>\n",
       "    </tr>\n",
       "  </thead>\n",
       "  <tbody>\n",
       "    <tr>\n",
       "      <th>0</th>\n",
       "      <td>L. Messi</td>\n",
       "      <td>560000.0</td>\n",
       "    </tr>\n",
       "    <tr>\n",
       "      <th>1</th>\n",
       "      <td>Cristiano Ronaldo</td>\n",
       "      <td>410000.0</td>\n",
       "    </tr>\n",
       "    <tr>\n",
       "      <th>2</th>\n",
       "      <td>Neymar Jr</td>\n",
       "      <td>290000.0</td>\n",
       "    </tr>\n",
       "    <tr>\n",
       "      <th>3</th>\n",
       "      <td>E. Hazard</td>\n",
       "      <td>470000.0</td>\n",
       "    </tr>\n",
       "    <tr>\n",
       "      <th>4</th>\n",
       "      <td>K. De Bruyne</td>\n",
       "      <td>370000.0</td>\n",
       "    </tr>\n",
       "  </tbody>\n",
       "</table>\n",
       "</div>"
      ],
      "text/plain": [
       "          short_name  wage_eur\n",
       "0           L. Messi  560000.0\n",
       "1  Cristiano Ronaldo  410000.0\n",
       "2          Neymar Jr  290000.0\n",
       "3          E. Hazard  470000.0\n",
       "4       K. De Bruyne  370000.0"
      ]
     },
     "execution_count": 58,
     "metadata": {},
     "output_type": "execute_result"
    }
   ],
   "source": [
    "player_s.head()"
   ]
  },
  {
   "cell_type": "code",
   "execution_count": 63,
   "metadata": {},
   "outputs": [
    {
     "data": {
      "text/html": [
       "<div>\n",
       "<style scoped>\n",
       "    .dataframe tbody tr th:only-of-type {\n",
       "        vertical-align: middle;\n",
       "    }\n",
       "\n",
       "    .dataframe tbody tr th {\n",
       "        vertical-align: top;\n",
       "    }\n",
       "\n",
       "    .dataframe thead th {\n",
       "        text-align: right;\n",
       "    }\n",
       "</style>\n",
       "<table border=\"1\" class=\"dataframe\">\n",
       "  <thead>\n",
       "    <tr style=\"text-align: right;\">\n",
       "      <th></th>\n",
       "      <th>short_name</th>\n",
       "      <th>wage_eur</th>\n",
       "    </tr>\n",
       "  </thead>\n",
       "  <tbody>\n",
       "    <tr>\n",
       "      <th>0</th>\n",
       "      <td>L. Messi</td>\n",
       "      <td>560000.0</td>\n",
       "    </tr>\n",
       "    <tr>\n",
       "      <th>3</th>\n",
       "      <td>E. Hazard</td>\n",
       "      <td>470000.0</td>\n",
       "    </tr>\n",
       "    <tr>\n",
       "      <th>1</th>\n",
       "      <td>Cristiano Ronaldo</td>\n",
       "      <td>410000.0</td>\n",
       "    </tr>\n",
       "    <tr>\n",
       "      <th>4</th>\n",
       "      <td>K. De Bruyne</td>\n",
       "      <td>370000.0</td>\n",
       "    </tr>\n",
       "    <tr>\n",
       "      <th>17</th>\n",
       "      <td>A. Griezmann</td>\n",
       "      <td>370000.0</td>\n",
       "    </tr>\n",
       "  </tbody>\n",
       "</table>\n",
       "</div>"
      ],
      "text/plain": [
       "           short_name  wage_eur\n",
       "0            L. Messi  560000.0\n",
       "3           E. Hazard  470000.0\n",
       "1   Cristiano Ronaldo  410000.0\n",
       "4        K. De Bruyne  370000.0\n",
       "17       A. Griezmann  370000.0"
      ]
     },
     "execution_count": 63,
     "metadata": {},
     "output_type": "execute_result"
    }
   ],
   "source": [
    "player_s=player_s.sort_values(by=['wage_eur'],ascending=False)\n",
    "player_s.head()"
   ]
  },
  {
   "cell_type": "code",
   "execution_count": 62,
   "metadata": {},
   "outputs": [
    {
     "data": {
      "text/plain": [
       "<BarContainer object of 5 artists>"
      ]
     },
     "execution_count": 62,
     "metadata": {},
     "output_type": "execute_result"
    },
    {
     "data": {
      "image/png": "[encoded data removed]",
      "text/plain": [
       "<Figure size 360x360 with 1 Axes>"
      ]
     },
     "metadata": {
      "needs_background": "light"
     },
     "output_type": "display_data"
    }
   ],
   "source": [
    "plt.figure(figsize=(5,5))\n",
    "plt.bar(list(player_s['short_name'][0:5]),list(player_s['wage_eur'][0:5]))"
   ]
  },
  {
   "cell_type": "code",
   "execution_count": 65,
   "metadata": {},
   "outputs": [],
   "source": [
    "germany=df['nationality_name']=='Germany'"
   ]
  },
  {
   "cell_type": "code",
   "execution_count": 67,
   "metadata": {},
   "outputs": [],
   "source": [
    "germany=df[df['nationality_name'] =='Germany']"
   ]
  },
  {
   "cell_type": "code",
   "execution_count": 69,
   "metadata": {},
   "outputs": [
    {
     "data": {
      "text/html": [
       "<div>\n",
       "<style scoped>\n",
       "    .dataframe tbody tr th:only-of-type {\n",
       "        vertical-align: middle;\n",
       "    }\n",
       "\n",
       "    .dataframe tbody tr th {\n",
       "        vertical-align: top;\n",
       "    }\n",
       "\n",
       "    .dataframe thead th {\n",
       "        text-align: right;\n",
       "    }\n",
       "</style>\n",
       "<table border=\"1\" class=\"dataframe\">\n",
       "  <thead>\n",
       "    <tr style=\"text-align: right;\">\n",
       "      <th></th>\n",
       "      <th>sofifa_id</th>\n",
       "      <th>player_url</th>\n",
       "      <th>short_name</th>\n",
       "      <th>long_name</th>\n",
       "      <th>player_positions</th>\n",
       "      <th>overall</th>\n",
       "      <th>potential</th>\n",
       "      <th>value_eur</th>\n",
       "      <th>wage_eur</th>\n",
       "      <th>age</th>\n",
       "      <th>...</th>\n",
       "      <th>lcb</th>\n",
       "      <th>cb</th>\n",
       "      <th>rcb</th>\n",
       "      <th>rb</th>\n",
       "      <th>gk</th>\n",
       "      <th>player_face_url</th>\n",
       "      <th>club_logo_url</th>\n",
       "      <th>club_flag_url</th>\n",
       "      <th>nation_logo_url</th>\n",
       "      <th>nation_flag_url</th>\n",
       "    </tr>\n",
       "  </thead>\n",
       "  <tbody>\n",
       "    <tr>\n",
       "      <th>7</th>\n",
       "      <td>192448</td>\n",
       "      <td>https://sofifa.com/player/192448/marc-andre-te...</td>\n",
       "      <td>M. ter Stegen</td>\n",
       "      <td>Marc-André ter Stegen</td>\n",
       "      <td>GK</td>\n",
       "      <td>90</td>\n",
       "      <td>93</td>\n",
       "      <td>67500000.0</td>\n",
       "      <td>250000.0</td>\n",
       "      <td>27</td>\n",
       "      <td>...</td>\n",
       "      <td>33+3</td>\n",
       "      <td>33+3</td>\n",
       "      <td>33+3</td>\n",
       "      <td>31+3</td>\n",
       "      <td>88+3</td>\n",
       "      <td>https://cdn.sofifa.net/players/192/448/20_120.png</td>\n",
       "      <td>https://cdn.sofifa.net/teams/241/60.png</td>\n",
       "      <td>https://cdn.sofifa.net/flags/es.png</td>\n",
       "      <td>https://cdn.sofifa.net/teams/1337/60.png</td>\n",
       "      <td>https://cdn.sofifa.net/flags/de.png</td>\n",
       "    </tr>\n",
       "    <tr>\n",
       "      <th>25</th>\n",
       "      <td>167495</td>\n",
       "      <td>https://sofifa.com/player/167495/manuel-neuer/...</td>\n",
       "      <td>M. Neuer</td>\n",
       "      <td>Manuel Peter Neuer</td>\n",
       "      <td>GK</td>\n",
       "      <td>88</td>\n",
       "      <td>88</td>\n",
       "      <td>32000000.0</td>\n",
       "      <td>155000.0</td>\n",
       "      <td>33</td>\n",
       "      <td>...</td>\n",
       "      <td>34+3</td>\n",
       "      <td>34+3</td>\n",
       "      <td>34+3</td>\n",
       "      <td>34+3</td>\n",
       "      <td>86+2</td>\n",
       "      <td>https://cdn.sofifa.net/players/167/495/20_120.png</td>\n",
       "      <td>https://cdn.sofifa.net/teams/21/60.png</td>\n",
       "      <td>https://cdn.sofifa.net/flags/de.png</td>\n",
       "      <td>https://cdn.sofifa.net/teams/1337/60.png</td>\n",
       "      <td>https://cdn.sofifa.net/flags/de.png</td>\n",
       "    </tr>\n",
       "    <tr>\n",
       "      <th>30</th>\n",
       "      <td>182521</td>\n",
       "      <td>https://sofifa.com/player/182521/toni-kroos/20...</td>\n",
       "      <td>T. Kroos</td>\n",
       "      <td>Toni Kroos</td>\n",
       "      <td>CM</td>\n",
       "      <td>88</td>\n",
       "      <td>88</td>\n",
       "      <td>57000000.0</td>\n",
       "      <td>330000.0</td>\n",
       "      <td>29</td>\n",
       "      <td>...</td>\n",
       "      <td>70+3</td>\n",
       "      <td>70+3</td>\n",
       "      <td>70+3</td>\n",
       "      <td>72+3</td>\n",
       "      <td>18+3</td>\n",
       "      <td>https://cdn.sofifa.net/players/182/521/20_120.png</td>\n",
       "      <td>https://cdn.sofifa.net/teams/243/60.png</td>\n",
       "      <td>https://cdn.sofifa.net/flags/es.png</td>\n",
       "      <td>https://cdn.sofifa.net/teams/1337/60.png</td>\n",
       "      <td>https://cdn.sofifa.net/flags/de.png</td>\n",
       "    </tr>\n",
       "    <tr>\n",
       "      <th>31</th>\n",
       "      <td>188350</td>\n",
       "      <td>https://sofifa.com/player/188350/marco-reus/20...</td>\n",
       "      <td>M. Reus</td>\n",
       "      <td>Marco Reus</td>\n",
       "      <td>CAM, LM, ST</td>\n",
       "      <td>88</td>\n",
       "      <td>88</td>\n",
       "      <td>56000000.0</td>\n",
       "      <td>165000.0</td>\n",
       "      <td>30</td>\n",
       "      <td>...</td>\n",
       "      <td>55+3</td>\n",
       "      <td>55+3</td>\n",
       "      <td>55+3</td>\n",
       "      <td>65+3</td>\n",
       "      <td>20+3</td>\n",
       "      <td>https://cdn.sofifa.net/players/188/350/20_120.png</td>\n",
       "      <td>https://cdn.sofifa.net/teams/22/60.png</td>\n",
       "      <td>https://cdn.sofifa.net/flags/de.png</td>\n",
       "      <td>https://cdn.sofifa.net/teams/1337/60.png</td>\n",
       "      <td>https://cdn.sofifa.net/flags/de.png</td>\n",
       "    </tr>\n",
       "    <tr>\n",
       "      <th>45</th>\n",
       "      <td>178603</td>\n",
       "      <td>https://sofifa.com/player/178603/mats-hummels/...</td>\n",
       "      <td>M. Hummels</td>\n",
       "      <td>Mats Hummels</td>\n",
       "      <td>CB</td>\n",
       "      <td>87</td>\n",
       "      <td>87</td>\n",
       "      <td>41000000.0</td>\n",
       "      <td>125000.0</td>\n",
       "      <td>30</td>\n",
       "      <td>...</td>\n",
       "      <td>85+2</td>\n",
       "      <td>85+2</td>\n",
       "      <td>85+2</td>\n",
       "      <td>79+3</td>\n",
       "      <td>17+3</td>\n",
       "      <td>https://cdn.sofifa.net/players/178/603/20_120.png</td>\n",
       "      <td>https://cdn.sofifa.net/teams/22/60.png</td>\n",
       "      <td>https://cdn.sofifa.net/flags/de.png</td>\n",
       "      <td>NaN</td>\n",
       "      <td>https://cdn.sofifa.net/flags/de.png</td>\n",
       "    </tr>\n",
       "  </tbody>\n",
       "</table>\n",
       "<p>5 rows × 110 columns</p>\n",
       "</div>"
      ],
      "text/plain": [
       "    sofifa_id                                         player_url  \\\n",
       "7      192448  https://sofifa.com/player/192448/marc-andre-te...   \n",
       "25     167495  https://sofifa.com/player/167495/manuel-neuer/...   \n",
       "30     182521  https://sofifa.com/player/182521/toni-kroos/20...   \n",
       "31     188350  https://sofifa.com/player/188350/marco-reus/20...   \n",
       "45     178603  https://sofifa.com/player/178603/mats-hummels/...   \n",
       "\n",
       "       short_name              long_name player_positions  overall  potential  \\\n",
       "7   M. ter Stegen  Marc-André ter Stegen               GK       90         93   \n",
       "25       M. Neuer     Manuel Peter Neuer               GK       88         88   \n",
       "30       T. Kroos             Toni Kroos               CM       88         88   \n",
       "31        M. Reus             Marco Reus      CAM, LM, ST       88         88   \n",
       "45     M. Hummels           Mats Hummels               CB       87         87   \n",
       "\n",
       "     value_eur  wage_eur  age  ...   lcb    cb   rcb    rb    gk  \\\n",
       "7   67500000.0  250000.0   27  ...  33+3  33+3  33+3  31+3  88+3   \n",
       "25  32000000.0  155000.0   33  ...  34+3  34+3  34+3  34+3  86+2   \n",
       "30  57000000.0  330000.0   29  ...  70+3  70+3  70+3  72+3  18+3   \n",
       "31  56000000.0  165000.0   30  ...  55+3  55+3  55+3  65+3  20+3   \n",
       "45  41000000.0  125000.0   30  ...  85+2  85+2  85+2  79+3  17+3   \n",
       "\n",
       "                                      player_face_url  \\\n",
       "7   https://cdn.sofifa.net/players/192/448/20_120.png   \n",
       "25  https://cdn.sofifa.net/players/167/495/20_120.png   \n",
       "30  https://cdn.sofifa.net/players/182/521/20_120.png   \n",
       "31  https://cdn.sofifa.net/players/188/350/20_120.png   \n",
       "45  https://cdn.sofifa.net/players/178/603/20_120.png   \n",
       "\n",
       "                              club_logo_url  \\\n",
       "7   https://cdn.sofifa.net/teams/241/60.png   \n",
       "25   https://cdn.sofifa.net/teams/21/60.png   \n",
       "30  https://cdn.sofifa.net/teams/243/60.png   \n",
       "31   https://cdn.sofifa.net/teams/22/60.png   \n",
       "45   https://cdn.sofifa.net/teams/22/60.png   \n",
       "\n",
       "                          club_flag_url  \\\n",
       "7   https://cdn.sofifa.net/flags/es.png   \n",
       "25  https://cdn.sofifa.net/flags/de.png   \n",
       "30  https://cdn.sofifa.net/flags/es.png   \n",
       "31  https://cdn.sofifa.net/flags/de.png   \n",
       "45  https://cdn.sofifa.net/flags/de.png   \n",
       "\n",
       "                             nation_logo_url  \\\n",
       "7   https://cdn.sofifa.net/teams/1337/60.png   \n",
       "25  https://cdn.sofifa.net/teams/1337/60.png   \n",
       "30  https://cdn.sofifa.net/teams/1337/60.png   \n",
       "31  https://cdn.sofifa.net/teams/1337/60.png   \n",
       "45                                       NaN   \n",
       "\n",
       "                        nation_flag_url  \n",
       "7   https://cdn.sofifa.net/flags/de.png  \n",
       "25  https://cdn.sofifa.net/flags/de.png  \n",
       "30  https://cdn.sofifa.net/flags/de.png  \n",
       "31  https://cdn.sofifa.net/flags/de.png  \n",
       "45  https://cdn.sofifa.net/flags/de.png  \n",
       "\n",
       "[5 rows x 110 columns]"
      ]
     },
     "execution_count": 69,
     "metadata": {},
     "output_type": "execute_result"
    }
   ],
   "source": [
    "germany.head()"
   ]
  },
  {
   "cell_type": "code",
   "execution_count": 75,
   "metadata": {},
   "outputs": [],
   "source": [
    "germany=df[['short_name','wage_eur']]"
   ]
  },
  {
   "cell_type": "code",
   "execution_count": 76,
   "metadata": {},
   "outputs": [
    {
     "data": {
      "text/html": [
       "<div>\n",
       "<style scoped>\n",
       "    .dataframe tbody tr th:only-of-type {\n",
       "        vertical-align: middle;\n",
       "    }\n",
       "\n",
       "    .dataframe tbody tr th {\n",
       "        vertical-align: top;\n",
       "    }\n",
       "\n",
       "    .dataframe thead th {\n",
       "        text-align: right;\n",
       "    }\n",
       "</style>\n",
       "<table border=\"1\" class=\"dataframe\">\n",
       "  <thead>\n",
       "    <tr style=\"text-align: right;\">\n",
       "      <th></th>\n",
       "      <th>short_name</th>\n",
       "      <th>wage_eur</th>\n",
       "    </tr>\n",
       "  </thead>\n",
       "  <tbody>\n",
       "    <tr>\n",
       "      <th>0</th>\n",
       "      <td>L. Messi</td>\n",
       "      <td>560000.0</td>\n",
       "    </tr>\n",
       "    <tr>\n",
       "      <th>1</th>\n",
       "      <td>Cristiano Ronaldo</td>\n",
       "      <td>410000.0</td>\n",
       "    </tr>\n",
       "    <tr>\n",
       "      <th>2</th>\n",
       "      <td>Neymar Jr</td>\n",
       "      <td>290000.0</td>\n",
       "    </tr>\n",
       "    <tr>\n",
       "      <th>3</th>\n",
       "      <td>E. Hazard</td>\n",
       "      <td>470000.0</td>\n",
       "    </tr>\n",
       "    <tr>\n",
       "      <th>4</th>\n",
       "      <td>K. De Bruyne</td>\n",
       "      <td>370000.0</td>\n",
       "    </tr>\n",
       "  </tbody>\n",
       "</table>\n",
       "</div>"
      ],
      "text/plain": [
       "          short_name  wage_eur\n",
       "0           L. Messi  560000.0\n",
       "1  Cristiano Ronaldo  410000.0\n",
       "2          Neymar Jr  290000.0\n",
       "3          E. Hazard  470000.0\n",
       "4       K. De Bruyne  370000.0"
      ]
     },
     "execution_count": 76,
     "metadata": {},
     "output_type": "execute_result"
    }
   ],
   "source": [
    "germany.head()"
   ]
  },
  {
   "cell_type": "code",
   "execution_count": 77,
   "metadata": {},
   "outputs": [],
   "source": [
    "top5_playr_s=germany.sort_values(by=['wage_eur'],ascending=False)"
   ]
  },
  {
   "cell_type": "code",
   "execution_count": 85,
   "metadata": {},
   "outputs": [
    {
     "data": {
      "text/html": [
       "<div>\n",
       "<style scoped>\n",
       "    .dataframe tbody tr th:only-of-type {\n",
       "        vertical-align: middle;\n",
       "    }\n",
       "\n",
       "    .dataframe tbody tr th {\n",
       "        vertical-align: top;\n",
       "    }\n",
       "\n",
       "    .dataframe thead th {\n",
       "        text-align: right;\n",
       "    }\n",
       "</style>\n",
       "<table border=\"1\" class=\"dataframe\">\n",
       "  <thead>\n",
       "    <tr style=\"text-align: right;\">\n",
       "      <th></th>\n",
       "      <th>short_name</th>\n",
       "      <th>wage_eur</th>\n",
       "    </tr>\n",
       "  </thead>\n",
       "  <tbody>\n",
       "    <tr>\n",
       "      <th>0</th>\n",
       "      <td>L. Messi</td>\n",
       "      <td>560000.0</td>\n",
       "    </tr>\n",
       "    <tr>\n",
       "      <th>3</th>\n",
       "      <td>E. Hazard</td>\n",
       "      <td>470000.0</td>\n",
       "    </tr>\n",
       "    <tr>\n",
       "      <th>1</th>\n",
       "      <td>Cristiano Ronaldo</td>\n",
       "      <td>410000.0</td>\n",
       "    </tr>\n",
       "    <tr>\n",
       "      <th>4</th>\n",
       "      <td>K. De Bruyne</td>\n",
       "      <td>370000.0</td>\n",
       "    </tr>\n",
       "    <tr>\n",
       "      <th>17</th>\n",
       "      <td>A. Griezmann</td>\n",
       "      <td>370000.0</td>\n",
       "    </tr>\n",
       "  </tbody>\n",
       "</table>\n",
       "</div>"
      ],
      "text/plain": [
       "           short_name  wage_eur\n",
       "0            L. Messi  560000.0\n",
       "3           E. Hazard  470000.0\n",
       "1   Cristiano Ronaldo  410000.0\n",
       "4        K. De Bruyne  370000.0\n",
       "17       A. Griezmann  370000.0"
      ]
     },
     "execution_count": 85,
     "metadata": {},
     "output_type": "execute_result"
    }
   ],
   "source": [
    "top5_playr_s.head()"
   ]
  },
  {
   "cell_type": "code",
   "execution_count": 86,
   "metadata": {},
   "outputs": [
    {
     "data": {
      "text/plain": [
       "<BarContainer object of 5 artists>"
      ]
     },
     "execution_count": 86,
     "metadata": {},
     "output_type": "execute_result"
    },
    {
     "data": {
      "image/png": "[encoded data removed]",
      "text/plain": [
       "<Figure size 360x360 with 1 Axes>"
      ]
     },
     "metadata": {
      "needs_background": "light"
     },
     "output_type": "display_data"
    }
   ],
   "source": [
    "plt.figure(figsize=(5,5))\n",
    "plt.bar(list(top5_playr_s['short_name'][0:5]),list(top5_playr_s['wage_eur'][0:5]))"
   ]
  },
  {
   "cell_type": "code",
   "execution_count": 87,
   "metadata": {},
   "outputs": [],
   "source": [
    "top5_defender_n=df[['defending','short_name','nationality_name','club_name']]"
   ]
  },
  {
   "cell_type": "code",
   "execution_count": 88,
   "metadata": {},
   "outputs": [
    {
     "data": {
      "text/html": [
       "<div>\n",
       "<style scoped>\n",
       "    .dataframe tbody tr th:only-of-type {\n",
       "        vertical-align: middle;\n",
       "    }\n",
       "\n",
       "    .dataframe tbody tr th {\n",
       "        vertical-align: top;\n",
       "    }\n",
       "\n",
       "    .dataframe thead th {\n",
       "        text-align: right;\n",
       "    }\n",
       "</style>\n",
       "<table border=\"1\" class=\"dataframe\">\n",
       "  <thead>\n",
       "    <tr style=\"text-align: right;\">\n",
       "      <th></th>\n",
       "      <th>defending</th>\n",
       "      <th>short_name</th>\n",
       "      <th>nationality_name</th>\n",
       "      <th>club_name</th>\n",
       "    </tr>\n",
       "  </thead>\n",
       "  <tbody>\n",
       "    <tr>\n",
       "      <th>0</th>\n",
       "      <td>39.0</td>\n",
       "      <td>L. Messi</td>\n",
       "      <td>Argentina</td>\n",
       "      <td>FC Barcelona</td>\n",
       "    </tr>\n",
       "    <tr>\n",
       "      <th>1</th>\n",
       "      <td>35.0</td>\n",
       "      <td>Cristiano Ronaldo</td>\n",
       "      <td>Portugal</td>\n",
       "      <td>Juventus</td>\n",
       "    </tr>\n",
       "    <tr>\n",
       "      <th>2</th>\n",
       "      <td>32.0</td>\n",
       "      <td>Neymar Jr</td>\n",
       "      <td>Brazil</td>\n",
       "      <td>Paris Saint-Germain</td>\n",
       "    </tr>\n",
       "    <tr>\n",
       "      <th>3</th>\n",
       "      <td>35.0</td>\n",
       "      <td>E. Hazard</td>\n",
       "      <td>Belgium</td>\n",
       "      <td>Real Madrid CF</td>\n",
       "    </tr>\n",
       "    <tr>\n",
       "      <th>4</th>\n",
       "      <td>61.0</td>\n",
       "      <td>K. De Bruyne</td>\n",
       "      <td>Belgium</td>\n",
       "      <td>Manchester City</td>\n",
       "    </tr>\n",
       "  </tbody>\n",
       "</table>\n",
       "</div>"
      ],
      "text/plain": [
       "   defending         short_name nationality_name            club_name\n",
       "0       39.0           L. Messi        Argentina         FC Barcelona\n",
       "1       35.0  Cristiano Ronaldo         Portugal             Juventus\n",
       "2       32.0          Neymar Jr           Brazil  Paris Saint-Germain\n",
       "3       35.0          E. Hazard          Belgium       Real Madrid CF\n",
       "4       61.0       K. De Bruyne          Belgium      Manchester City"
      ]
     },
     "execution_count": 88,
     "metadata": {},
     "output_type": "execute_result"
    }
   ],
   "source": [
    "top5_defender_n.head()"
   ]
  },
  {
   "cell_type": "code",
   "execution_count": 94,
   "metadata": {},
   "outputs": [
    {
     "data": {
      "text/html": [
       "<div>\n",
       "<style scoped>\n",
       "    .dataframe tbody tr th:only-of-type {\n",
       "        vertical-align: middle;\n",
       "    }\n",
       "\n",
       "    .dataframe tbody tr th {\n",
       "        vertical-align: top;\n",
       "    }\n",
       "\n",
       "    .dataframe thead th {\n",
       "        text-align: right;\n",
       "    }\n",
       "</style>\n",
       "<table border=\"1\" class=\"dataframe\">\n",
       "  <thead>\n",
       "    <tr style=\"text-align: right;\">\n",
       "      <th></th>\n",
       "      <th>defending</th>\n",
       "      <th>short_name</th>\n",
       "      <th>nationality_name</th>\n",
       "      <th>club_name</th>\n",
       "    </tr>\n",
       "  </thead>\n",
       "  <tbody>\n",
       "    <tr>\n",
       "      <th>10</th>\n",
       "      <td>90.0</td>\n",
       "      <td>G. Chiellini</td>\n",
       "      <td>Italy</td>\n",
       "      <td>Juventus</td>\n",
       "    </tr>\n",
       "    <tr>\n",
       "      <th>8</th>\n",
       "      <td>90.0</td>\n",
       "      <td>V. van Dijk</td>\n",
       "      <td>Netherlands</td>\n",
       "      <td>Liverpool</td>\n",
       "    </tr>\n",
       "    <tr>\n",
       "      <th>29</th>\n",
       "      <td>89.0</td>\n",
       "      <td>D. Godín</td>\n",
       "      <td>Uruguay</td>\n",
       "      <td>Inter</td>\n",
       "    </tr>\n",
       "    <tr>\n",
       "      <th>45</th>\n",
       "      <td>89.0</td>\n",
       "      <td>M. Hummels</td>\n",
       "      <td>Germany</td>\n",
       "      <td>Borussia Dortmund</td>\n",
       "    </tr>\n",
       "    <tr>\n",
       "      <th>18</th>\n",
       "      <td>89.0</td>\n",
       "      <td>K. Koulibaly</td>\n",
       "      <td>Senegal</td>\n",
       "      <td>Napoli</td>\n",
       "    </tr>\n",
       "  </tbody>\n",
       "</table>\n",
       "</div>"
      ],
      "text/plain": [
       "    defending    short_name nationality_name          club_name\n",
       "10       90.0  G. Chiellini            Italy           Juventus\n",
       "8        90.0   V. van Dijk      Netherlands          Liverpool\n",
       "29       89.0      D. Godín          Uruguay              Inter\n",
       "45       89.0    M. Hummels          Germany  Borussia Dortmund\n",
       "18       89.0  K. Koulibaly          Senegal             Napoli"
      ]
     },
     "execution_count": 94,
     "metadata": {},
     "output_type": "execute_result"
    }
   ],
   "source": [
    "top5_defender_n=top5_defender_n.sort_values(by=['defending'],ascending=False)\n",
    "top5_defender_n.head(5)"
   ]
  },
  {
   "cell_type": "code",
   "execution_count": 95,
   "metadata": {},
   "outputs": [
    {
     "data": {
      "text/plain": [
       "<BarContainer object of 5 artists>"
      ]
     },
     "execution_count": 95,
     "metadata": {},
     "output_type": "execute_result"
    },
    {
     "data": {
      "image/png": "[encoded data removed]",
      "text/plain": [
       "<Figure size 360x360 with 1 Axes>"
      ]
     },
     "metadata": {
      "needs_background": "light"
     },
     "output_type": "display_data"
    }
   ],
   "source": [
    "plt.figure(figsize=(5,5))\n",
    "plt.bar(list(top5_defender_n['short_name'][0:5]),list(top5_defender_n['defending'][0:5]))"
   ]
  },
  {
   "cell_type": "code",
   "execution_count": null,
   "metadata": {},
   "outputs": [],
   "source": []
  },
  {
   "cell_type": "code",
   "execution_count": null,
   "metadata": {},
   "outputs": [],
   "source": []
  },
  {
   "cell_type": "code",
   "execution_count": null,
   "metadata": {},
   "outputs": [],
   "source": []
  },
  {
   "cell_type": "code",
   "execution_count": null,
   "metadata": {},
   "outputs": [],
   "source": []
  }
 ],
 "metadata": {
  "kernelspec": {
   "display_name": "Python 3",
   "language": "python",
   "name": "python3"
  },
  "language_info": {
   "codemirror_mode": {
    "name": "ipython",
    "version": 3
   },
   "file_extension": ".py",
   "mimetype": "text/x-python",
   "name": "python",
   "nbconvert_exporter": "python",
   "pygments_lexer": "ipython3",
   "version": "3.8.3"
  }
 },
 "nbformat": 4,
 "nbformat_minor": 4
}
